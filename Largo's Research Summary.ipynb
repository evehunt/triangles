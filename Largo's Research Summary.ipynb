{
 "cells": [
  {
   "cell_type": "code",
   "execution_count": 1,
   "metadata": {},
   "outputs": [
    {
     "data": {
      "text/html": [
       "<script>\n",
       "code_show=true; \n",
       "function code_toggle() {\n",
       " if (code_show){\n",
       " $('div.input').hide();\n",
       " } else {\n",
       " $('div.input').show();\n",
       " }\n",
       " code_show = !code_show\n",
       "} \n",
       "$( document ).ready(code_toggle);\n",
       "</script>\n",
       "<form action=\"javascript:code_toggle()\"><input type=\"submit\" value=\"Click here to toggle on/off the raw code.\"></form>"
      ],
      "text/plain": [
       "<IPython.core.display.HTML object>"
      ]
     },
     "execution_count": 1,
     "metadata": {},
     "output_type": "execute_result"
    }
   ],
   "source": [
    "from IPython.display import HTML\n",
    "\n",
    "HTML('''<script>\n",
    "code_show=true; \n",
    "function code_toggle() {\n",
    " if (code_show){\n",
    " $('div.input').hide();\n",
    " } else {\n",
    " $('div.input').show();\n",
    " }\n",
    " code_show = !code_show\n",
    "} \n",
    "$( document ).ready(code_toggle);\n",
    "</script>\n",
    "<form action=\"javascript:code_toggle()\"><input type=\"submit\" value=\"Click here to toggle on/off the raw code.\"></form>''')"
   ]
  },
  {
   "cell_type": "markdown",
   "metadata": {},
   "source": [
    "###### [[import libraries]]"
   ]
  },
  {
   "cell_type": "code",
   "execution_count": 2,
   "metadata": {},
   "outputs": [],
   "source": [
    "# Import data analysis libraries\n",
    "import numpy as np\n",
    "import pandas as pd\n",
    "\n",
    "# Import visualization libraries\n",
    "import matplotlib.pyplot as plt\n",
    "import seaborn as sns\n",
    "\n",
    "# Tell seaborn to be pretty\n",
    "sns.set(style=\"whitegrid\")\n",
    "sns.set_context(\"talk\", font_scale=1.2)\n",
    "\n",
    "# Import string manipulation and analysis libraries\n",
    "import re\n",
    "from fuzzywuzzy import fuzz"
   ]
  },
  {
   "cell_type": "markdown",
   "metadata": {},
   "source": [
    "##### [[convenience functions for visualizations]]"
   ]
  },
  {
   "cell_type": "code",
   "execution_count": 3,
   "metadata": {},
   "outputs": [],
   "source": [
    "# Quick fix for labeling count data\n",
    "# Borrowed from: https://stackoverflow.com/questions/43214978/seaborn-barplot-displaying-values\n",
    "\n",
    "def show_values_on_bars(axs, h_v=\"v\", space=0.4, ypad=0):\n",
    "    def _show_on_single_plot(ax):\n",
    "        if h_v == \"v\":\n",
    "            for p in ax.patches:\n",
    "                _x = p.get_x() + p.get_width() / 2\n",
    "                _y = p.get_y() + p.get_height()\n",
    "                value = int(p.get_height())\n",
    "                ax.text(_x, (_y + ypad), value, ha=\"center\") \n",
    "        elif h_v == \"h\":\n",
    "            for p in ax.patches:\n",
    "                _x = p.get_x() + p.get_width() + float(space)\n",
    "                _y = p.get_y() + p.get_height()\n",
    "                value = int(p.get_width())\n",
    "                ax.text(_x, _y + ypad, value, ha=\"left\")\n",
    "\n",
    "    if isinstance(axs, np.ndarray):\n",
    "        for idx, ax in np.ndenumerate(axs):\n",
    "            _show_on_single_plot(ax)\n",
    "    else:\n",
    "        _show_on_single_plot(axs)\n",
    "    \n",
    "# Keep my countplots looking how I like them\n",
    "def CountPlot(variable, title, xlabel, ylabel):\n",
    "\n",
    "    plt.figure(figsize=(14,5))\n",
    "    g = sns.countplot(y=derived[variable], \n",
    "                      order=derived[variable].value_counts().index)\n",
    "\n",
    "    plt.title(title, fontsize=36, y=1.04)\n",
    "    plt.xlabel(xlabel)\n",
    "    plt.ylabel(ylabel)\n",
    "    \n",
    "    \n",
    "    g.set_xticks(np.arange(0,(derived[variable].value_counts().max()+1)))\n",
    "\n",
    "    show_values_on_bars(g, \"h\", 0.05, ypad=-0.19)\n",
    "\n",
    "    sns.despine()\n",
    "\n",
    "    plt.show()"
   ]
  },
  {
   "cell_type": "markdown",
   "metadata": {},
   "source": [
    "# Data Standardization"
   ]
  },
  {
   "cell_type": "markdown",
   "metadata": {},
   "source": [
    "First, I read in and concatenated the strings. The printed strings below represent my raw inputs after concatenation."
   ]
  },
  {
   "cell_type": "code",
   "execution_count": 4,
   "metadata": {},
   "outputs": [
    {
     "name": "stdout",
     "output_type": "stream",
     "text": [
      "Cloud\n",
      "4I3Al aKmHl 0*8)8% AkMbL @k^cG8% E0J B8^6Dk)3>\n",
      "\n",
      "ABC1\n",
      "4I3Al n*p)pBl# E0J N8O8AgDk)3>\n",
      "\n",
      "ABC2\n",
      "4I3Al dQ8Bl jKiEdK0# @0QjGh)8 n*p)pAl# E0J JkIePk#3>\n",
      "\n",
      "ABC3\n",
      "4I3Al p)pBl n*p)pFlC QjGdK0#.\n",
      "\n",
      "ABC4\n",
      "4I3Al kFiKbL3 2)qJgD )qJgDk)3>\n",
      "\n",
      "ABC5\n",
      "4I3Al kFiHl# KfIkBl# !gPk#3< @0QjGdK0#.\n",
      "\n",
      "ABC6\n",
      "4I3Al p)pBl n*p)pFlC QjGdK0# @0QjGh)8 kFiKjL3 2)qJgDk)3>\n",
      "\n",
      "ABC7\n",
      "4I3Al kFiKbL3 qJgDk)3 2)qJgH0* Dq*aL JkIePk)3>\n",
      "\n",
      "ABC8\n",
      "kBiKaL3 4I3Bl n*o*aGdK3#.\n",
      "\n",
      "ABC9\n",
      "kBiKaL3 dQ8Bl n*jKiEdK3#.\n",
      "\n",
      "ABC10\n",
      "kBiKaL3 4I3Bl kO0*2Dk#3>\n",
      "\n",
      "NTN1\n",
      "4I3Al kFiBl# @0EjGdK0#.\n",
      "\n",
      "NTN2\n",
      "dQ8Al aF8FlC !8Dk#1>\n",
      "\n",
      "NTN3\n",
      "dQ8Al n*aF8FlC !8Dk#1>\n",
      "\n",
      "NTE1\n",
      "4I3Al kFiBl# #mGoOdK1# @oIjGrI @0QjGh)8 dQ8Al 4I3*5 n*aF8Pk#1>\n",
      "\n",
      "NTE2\n",
      "4I3Al kFiBl# #mGoOdK1# @oIjGrI\n",
      "\n",
      "NTE3\n",
      "dQ8Al 4I3*5 n*aF8Dk#1 2)qJgH0* $i#aL N8B8&dK0#.\n",
      "\n",
      "NTW1\n",
      "kFiAl# Dq*bL N8Af*fLc 2)qJgPk)3>\n",
      "\n",
      "NTW2\n",
      "4I3Al kFiAl# @0QjGh)8 dQ8Al n*aF8Pk#1>\n",
      "\n",
      "NTO1\n",
      "aL KfIbL3 n*o*aGdK3!.\n",
      "\n",
      "NTO2\n",
      "aL N8B8&bL N8O8AgDk#1>\n",
      "\n",
      "CR1\n",
      "n*p)pAl# E0J P0PbL N8P0PfL N8P0PfLc o*aGdK3#.\n",
      "\n",
      "CR2\n",
      "n*p)pAl# E0J K8)cBl e)j qJgDk#3>\n",
      "\n",
      "CR3\n",
      "n*p)pAl# E0J Ko*bL KiIb 2Ib 2Ib#dK3#.\n",
      "\n",
      "CR4\n",
      "bGkFo)b)aL3 4I3*5< B0&kFlC !gDk#3>\n",
      "\n",
      "CR5\n",
      "n*p)pAl# E0J P0PbL N8P0PfLc kIiB @iB3Dk#3>\n",
      "\n",
      "CR6\n",
      "n*p)pAl# $i#bL N8O8AgDk#3>\n",
      "\n",
      "ICE1\n",
      "PSPAL ESJ, N*PSPFLC TGDKVT HS*U PSPAL ESJ, PSPFLC TGDKVT.\n",
      "\n",
      "ICE2\n",
      "PSPAL ESJ, PSPFLC QGHZRI TGDKVT.\n",
      "\n",
      "ICE3\n",
      "PSPAL ESJ, PSPBL BGKF*X YIIVFLC JSBGRI TGDKVT.\n",
      "\n",
      "ICE4\n",
      "PB*KO*AL N*PSPFLC TGDKVT.\n",
      "\n",
      "ICE5\n",
      "PB*KO*AL PSPFLC TGDKVT.\n",
      "\n",
      "ICE6\n",
      "BGKFOSBSALV WIV*X, SBSFVFLC TGDKVV.\n",
      "\n",
      "ICE7\n",
      "BGKFOSBSALV WIV*X K*SCBL USQJGDKSV.\n",
      "\n",
      "ICE8\n",
      "K*SCAL ESJ PB*KO*BL KIIB RI*CDKVT.\n",
      "\n",
      "ICE9\n",
      "K*SCAL ESJ KO*HL  KIIB PB*KO*B KIIB RI*CDKVT.\n",
      "\n",
      "ICE10\n",
      "WIVAL K*SCBL ESJ QJ*DKSV.\n",
      "\n"
     ]
    }
   ],
   "source": [
    "# Import the raw csv\n",
    "raw = pd.read_csv('./raw data/raw_separated_strings.csv')\n",
    "\n",
    "# Set the index\n",
    "raw.index = raw['Source']\n",
    "\n",
    "# Drop the index from the columns\n",
    "raw = raw[raw.columns[1:]]\n",
    "\n",
    "# Replace NaNs with spaces\n",
    "raw = raw.replace(np.nan, ' ', regex=True)\n",
    "\n",
    "# Label the index columns appropriately for my purposes\n",
    "raw.columns = [str((int(s) -1)) for s in raw.columns] # start at index zero\n",
    "raw.columns = ['idx_' + s for s in raw.columns] # label the columns as index columns\n",
    "\n",
    "# Concatenate the strings\n",
    "raw['string_raw'] = [''.join([str(s)[0] for s in list(raw.loc[idx])]).strip() for idx in raw.index]\n",
    "raw['string_raw'] = [s.strip() for s in raw['string_raw']]\n",
    "\n",
    "# Preview the data\n",
    "for source in raw.index:\n",
    "    print('{}\\n{}\\n'.format(source, raw.loc[source]['string_raw']))"
   ]
  },
  {
   "cell_type": "markdown",
   "metadata": {},
   "source": [
    "To go about this in a way that works for me, I will have to make the strings naive to inversions & standardize the differences in the keys that the two of you are using. I will use the conventions associated with uninverted symbols, and I will map the symbols associated with the numbers 0-8 to 0-8 even though they are likely serving another purpose in the texts. \n",
    "\n",
    "The printed strings below represent my data after standardization."
   ]
  },
  {
   "cell_type": "code",
   "execution_count": 5,
   "metadata": {},
   "outputs": [
    {
     "name": "stdout",
     "output_type": "stream",
     "text": [
      "Cloud\n",
      "4i3al akmhl 088085 akmbl 2k6cg85 e0j b866dk03.\n",
      "\n",
      "ABC1\n",
      "4i3al n8p0pbl3 e0j n8o8agdk03.\n",
      "\n",
      "ABC2\n",
      "4i3al dq8bl jkiedk03 20qjgh08 n8p0pal3 e0j jkiepk33.\n",
      "\n",
      "ABC3\n",
      "4i3al p0pbl n8p0pflc qjgdk03.\n",
      "\n",
      "ABC4\n",
      "4i3al kfikbl3 20qjgd 0qjgdk03.\n",
      "\n",
      "ABC5\n",
      "4i3al kfihl3 kfikbl3 1gpk33, 20qjgdk03.\n",
      "\n",
      "ABC6\n",
      "4i3al p0pbl n8p0pflc qjgdk03 20qjgh08 kfikjl3 20qjgdk03.\n",
      "\n",
      "ABC7\n",
      "4i3al kfikbl3 qjgdk03 20qjgh08 dq8al jkiepk03.\n",
      "\n",
      "ABC8\n",
      "kbikal3 4i3bl n8o8agdk33.\n",
      "\n",
      "ABC9\n",
      "kbikal3 dq8bl n8jkiedk33.\n",
      "\n",
      "ABC10\n",
      "kbikal3 4i3bl ko082dk33.\n",
      "\n",
      "NTN1\n",
      "4i3al kfibl3 20ejgdk03.\n",
      "\n",
      "NTN2\n",
      "dq8al af8flc 18dk31.\n",
      "\n",
      "NTN3\n",
      "dq8al n8af8flc 18dk31.\n",
      "\n",
      "NTE1\n",
      "4i3al kfibl3 3mgoodk13 2oijgri 20qjgh08 dq8al 4i385 n8af8pk31.\n",
      "\n",
      "NTE2\n",
      "4i3al kfibl3 3mgoodk13 2oijgri\n",
      "\n",
      "NTE3\n",
      "dq8al 4i385 n8af8dk31 20qjgh08 4i3al n8b87dk03.\n",
      "\n",
      "NTW1\n",
      "kfial3 dq8bl n8af8flc 20qjgpk03.\n",
      "\n",
      "NTW2\n",
      "4i3al kfial3 20qjgh08 dq8al n8af8pk31.\n",
      "\n",
      "NTO1\n",
      "al kfibl3 n8o8agdk31.\n",
      "\n",
      "NTO2\n",
      "al n8b87bl n8o8agdk31.\n",
      "\n",
      "CR1\n",
      "n8p0pal3 e0j p0pbl n8p0pfl n8p0pflc o8agdk33.\n",
      "\n",
      "CR2\n",
      "n8p0pal3 e0j k80cbl e0j qjgdk33.\n",
      "\n",
      "CR3\n",
      "n8p0pal3 e0j ko8bl kiib 2ib 2ib3dk33.\n",
      "\n",
      "CR4\n",
      "bgkfo0b0al3 4i385, b07kflc 1gdk33.\n",
      "\n",
      "CR5\n",
      "n8p0pal3 e0j p0pbl n8p0pflc kiib 2ib3dk33.\n",
      "\n",
      "CR6\n",
      "n8p0pal3 4i3bl n8o8agdk33.\n",
      "\n",
      "ICE1\n",
      "p0pal e0j, n8p0pflc 1gdk31 h082 p0pal e0j, p0pflc 1gdk31.\n",
      "\n",
      "ICE2\n",
      "p0pal e0j, p0pflc qgh7ri 1gdk31.\n",
      "\n",
      "ICE3\n",
      "p0pal e0j, p0pbl bgkf85 6ii3flc j0bgri 1gdk31.\n",
      "\n",
      "ICE4\n",
      "pb8ko8al n8p0pflc 1gdk31.\n",
      "\n",
      "ICE5\n",
      "pb8ko8al p0pflc 1gdk31.\n",
      "\n",
      "ICE6\n",
      "bgkfo0b0al3 4i385, 0b0f3flc 1gdk33.\n",
      "\n",
      "ICE7\n",
      "bgkfo0b0al3 4i385 k80cbl 20qjgdk03.\n",
      "\n",
      "ICE8\n",
      "k80cal e0j pb8ko8bl kiib ri8cdk31.\n",
      "\n",
      "ICE9\n",
      "k80cal e0j ko8hl  kiib pb8ko8b kiib ri8cdk31.\n",
      "\n",
      "ICE10\n",
      "4i3al k80cbl e0j qj8dk03.\n",
      "\n"
     ]
    }
   ],
   "source": [
    "# Create a dictionary to house \n",
    "standardize_dict = {}\n",
    "\n",
    "\n",
    "# Read in the key and map \n",
    "key = pd.read_csv('./raw data/key_equivalencies.csv')\n",
    "\n",
    "for idx in key.index:\n",
    "    standardize_dict[key.loc[idx]['Symbol']] = key.loc[idx]['Symbol'] # Translate Symbol to Symbol\n",
    "    standardize_dict[key.loc[idx]['Inverse']] = key.loc[idx]['Symbol'] # Translate Inverse to Symbol\n",
    "    standardize_dict[key.loc[idx]['Aspasia_Numeric']] = key.loc[idx]['Symbol'] # Translate Aspasia's Numeric Codes to Symbol\n",
    "\n",
    "standardize_dict[' '] = ' ' # Empty space is equivalent to empty space. Really makes you think.\n",
    "\n",
    "\n",
    "# Create a column to house the standardized strings\n",
    "raw['string_generic'] = [''.join([standardize_dict[s] for s in entry]) for entry in raw['string_raw']]\n",
    "\n",
    "\n",
    "# Preview the data\n",
    "for source in raw.index:\n",
    "    print('{}\\n{}\\n'.format(source, raw.loc[source]['string_generic']))"
   ]
  },
  {
   "cell_type": "markdown",
   "metadata": {},
   "source": [
    "I'll set aside a copy of the raw ledger in case I need to come back to it sometime.\n",
    "\n",
    "An appendix is referenced here: ___raw_strings.CSV___"
   ]
  },
  {
   "cell_type": "code",
   "execution_count": 6,
   "metadata": {},
   "outputs": [
    {
     "name": "stdout",
     "output_type": "stream",
     "text": [
      "Saved progress in the root folder as raw_strings.csv\n",
      "\n",
      "Columns:\n",
      "Index(['idx_0', 'idx_1', 'idx_2', 'idx_3', 'idx_4', 'idx_5', 'idx_6', 'idx_7',\n",
      "       'idx_8', 'idx_9', 'idx_10', 'idx_11', 'idx_12', 'idx_13', 'idx_14',\n",
      "       'idx_15', 'idx_16', 'idx_17', 'idx_18', 'idx_19', 'idx_20', 'idx_21',\n",
      "       'idx_22', 'idx_23', 'idx_24', 'idx_25', 'idx_26', 'idx_27', 'idx_28',\n",
      "       'idx_29', 'idx_30', 'idx_31', 'idx_32', 'idx_33', 'idx_34', 'idx_35',\n",
      "       'idx_36', 'idx_37', 'idx_38', 'idx_39', 'idx_40', 'idx_41', 'idx_42',\n",
      "       'idx_43', 'idx_44', 'idx_45', 'idx_46', 'idx_47', 'idx_48', 'idx_49',\n",
      "       'idx_50', 'idx_51', 'idx_52', 'idx_53', 'idx_54', 'idx_55', 'idx_56',\n",
      "       'idx_57', 'idx_58', 'idx_59', 'idx_60', 'idx_61', 'string_raw',\n",
      "       'string_generic'],\n",
      "      dtype='object')\n"
     ]
    }
   ],
   "source": [
    "raw.to_csv('raw_strings.csv')\n",
    "print('Saved progress in the root folder as raw_strings.csv')\n",
    "\n",
    "print('\\nColumns:')\n",
    "print(raw.columns)"
   ]
  },
  {
   "cell_type": "code",
   "execution_count": 7,
   "metadata": {},
   "outputs": [],
   "source": [
    "derived = raw.copy()"
   ]
  },
  {
   "cell_type": "markdown",
   "metadata": {},
   "source": [
    "# Examining Source Location"
   ]
  },
  {
   "cell_type": "code",
   "execution_count": 8,
   "metadata": {},
   "outputs": [
    {
     "data": {
      "image/png": "[encoded data removed]",
      "text/plain": [
       "<Figure size 1008x360 with 1 Axes>"
      ]
     },
     "metadata": {},
     "output_type": "display_data"
    }
   ],
   "source": [
    "def BarPlot(variable, title, xlabel, ylabel):  \n",
    "\n",
    "    plt.figure(figsize=(14,5))\n",
    "    g = sns.countplot(y=derived[variable], \n",
    "                      order=derived[variable].value_counts().index)\n",
    "\n",
    "    plt.title(title, fontsize=36, y=1.04)\n",
    "    plt.xlabel(xlabel)\n",
    "    plt.ylabel(ylabel)\n",
    "      \n",
    "    g.set_xticks(np.arange(0,(derived[variable].value_counts().max()+1)))\n",
    "\n",
    "    show_values_on_bars(g, \"h\", 0.05, ypad=-0.19)\n",
    "\n",
    "    sns.despine()\n",
    "\n",
    "    plt.show()\n",
    "\n",
    "    \n",
    "derived['location_found'] = [''.join(s for s in s if s.isalpha()) for s in derived.index]\n",
    "    \n",
    "CountPlot(variable='location_found', \n",
    "          title='Count of Scripts by Location Discovered', \n",
    "          xlabel='(number of scripts)',\n",
    "          ylabel='(location discovered)')"
   ]
  },
  {
   "cell_type": "markdown",
   "metadata": {},
   "source": [
    "##### Notes & Questions -- \n",
    "* Following Aspasia's hypothesis that the characters correspond to concepts and words rather than letters, do the locations of these various texts provide us with any insight as to the meanings of given characters? \n",
    "* Kind of a stretch, maybe. But all of the 10-table locations have strong elemental associations: ABC is a cave, so earth. The northern temple is full of lava, like, very full, so fire. The ice cave is... icy. Cloud, of course, is in the air. Does this offer us anything interesting? Maybe not!\n",
    "* ABC, ICE, and NT (in the aggregate) all have ten sequences. __Are we sure there aren't four more at crossroads? We'll have to go investigate.__"
   ]
  },
  {
   "cell_type": "markdown",
   "metadata": {},
   "source": [
    "## Characters"
   ]
  },
  {
   "cell_type": "markdown",
   "metadata": {},
   "source": [
    "*Barely any commentary. He didn't organize the columns. The work is more hurried than nearly everything else. He clearly shifted his attention away from this nearly immediately after completing the ledger.*\n",
    "\n",
    "*Nonetheless, the ledger exists:* ___raw_strings.CSV___ "
   ]
  },
  {
   "cell_type": "code",
   "execution_count": 9,
   "metadata": {},
   "outputs": [],
   "source": [
    "# Count characters\n",
    "unique_characters = set([s for s in ''.join(list(derived['string_generic']))])\n",
    "\n",
    "for sub in unique_characters:\n",
    "    if sub == ' ':\n",
    "        name = 'space'\n",
    "    else:\n",
    "        name = sub\n",
    "    derived['count_{}'.format(name)] = [derived.loc[idx]['string_generic'].count(sub) for idx in derived.index]"
   ]
  },
  {
   "cell_type": "code",
   "execution_count": 10,
   "metadata": {},
   "outputs": [
    {
     "name": "stdout",
     "output_type": "stream",
     "text": [
      "Saved progress in the root folder as character_counts.CSV\n",
      "\n",
      "Columns:\n",
      "Index(['string_generic', 'count_h', 'count_8', 'count_.', 'count_n', 'count_6',\n",
      "       'count_l', 'count_f', 'count_,', 'count_7', 'count_i', 'count_2',\n",
      "       'count_1', 'count_d', 'count_e', 'count_r', 'count_g', 'count_5',\n",
      "       'count_p', 'count_o', 'count_space', 'count_b', 'count_3', 'count_q',\n",
      "       'count_0', 'count_m', 'count_c', 'count_k', 'count_4', 'count_a',\n",
      "       'count_j'],\n",
      "      dtype='object')\n"
     ]
    }
   ],
   "source": [
    "character_counts = derived[['string_generic'] + [s for s in derived.columns if 'count' in s]]\n",
    "\n",
    "character_counts.to_csv('character_counts.CSV')\n",
    "print('Saved progress in the root folder as character_counts.CSV')\n",
    "\n",
    "print('\\nColumns:')\n",
    "print(character_counts.columns)"
   ]
  },
  {
   "cell_type": "markdown",
   "metadata": {},
   "source": [
    "## Aspasia's n-grams"
   ]
  },
  {
   "cell_type": "markdown",
   "metadata": {},
   "source": [
    "Aspasia's research revealed the following frequent n-grams/words. I was going to visualize my counts of them and to calculate their co-occurrences, but recent developments shifted my attention to assigning meanings. I am tying these notes together quickly so that the two of you can finish solving this. Here is a ledger where I tally them for each sequence we've found. Hopefully it will be useful to you.\n",
    "\n",
    "An appendix is referenced here: ___n-gram_counts.CSV___"
   ]
  },
  {
   "cell_type": "code",
   "execution_count": 11,
   "metadata": {},
   "outputs": [
    {
     "name": "stdout",
     "output_type": "stream",
     "text": [
      "Saved progress in the root folder as n-gram_counts.CSV\n",
      "\n",
      "Columns:\n",
      "Index(['string_generic', 'ngramcount_p0p', 'ngramcount_kfi', 'ngramcount_bgkf',\n",
      "       'ngramcount_n8', 'ngramcount_al', 'ngramcount_bl', 'ngramcount_4i3',\n",
      "       'ngramcount_85', 'ngramcount_k33', 'ngramcount_k03', 'ngramcount_k31',\n",
      "       'ngramcount_e0j', 'ngramcount_dq8', 'ngramcount_flc', 'ngramcount_20q',\n",
      "       'ngramcount_agd', 'ngramcount_jgd', 'ngramcount_o8', 'ngramcount_k80c',\n",
      "       'ngramcount_pb8k', 'ngramcount_1gd', 'ngramcount_h08',\n",
      "       'ngramcount_af8'],\n",
      "      dtype='object')\n"
     ]
    }
   ],
   "source": [
    "# Count Aspasia's ngrams for each entry\n",
    "aspasia_ngrams = pd.read_csv('/Users/eve/Dropbox/My Mac (MacBook-Air.attlocal.net)/Desktop/Triangle Cipher/letter ngrams/aspasia_ngrams.csv')\n",
    "aspasia_ngrams_list = [''.join([standardize_dict[s] for s in entry]) for entry in aspasia_ngrams['ngram']]\n",
    "\n",
    "for sub in aspasia_ngrams_list:\n",
    "    derived['ngramcount_{}'.format(sub)] = [derived.loc[idx]['string_generic'].count(sub) for idx in derived.index]\n",
    "    \n",
    "    \n",
    "ngram_counts = derived[['string_generic'] + [s for s in derived.columns if 'ngram' in s]]\n",
    "ngram_counts.to_csv('./n-gram_counts.CSV')\n",
    "ngram_counts.head(1)\n",
    "\n",
    "character_counts.to_csv('n-gram_counts.CSV')\n",
    "print('Saved progress in the root folder as n-gram_counts.CSV')\n",
    "\n",
    "print('\\nColumns:')\n",
    "print(ngram_counts.columns)"
   ]
  },
  {
   "cell_type": "markdown",
   "metadata": {},
   "source": [
    "# XKXX Sequences"
   ]
  },
  {
   "cell_type": "code",
   "execution_count": 12,
   "metadata": {},
   "outputs": [
    {
     "data": {
      "image/png": "[encoded data removed]",
      "text/plain": [
       "<Figure size 1008x360 with 1 Axes>"
      ]
     },
     "metadata": {},
     "output_type": "display_data"
    }
   ],
   "source": [
    "\n",
    "re_xkxx = '[dp]k.{2}' # A regex statement to grab XKXX sequences\n",
    "derived['string_xkxx_extracted'] = [re.sub(re_xkxx, '', s) for s in derived['string_generic']]\n",
    "derived['string_xkxx'] = [re.search(re_xkxx, s).group(0) for s in derived['string_generic']]\n",
    "\n",
    "\n",
    "CountPlot(variable='string_xkxx', \n",
    "          title='Count of Scripts by XKXX Sequence', \n",
    "          xlabel='(number of scripts with XKXX sequence)',\n",
    "          ylabel='(xkxx sequence)')"
   ]
  },
  {
   "cell_type": "markdown",
   "metadata": {},
   "source": [
    "#### Noting that p is a wildly rare prefix in the context of xkxx sequences, I've reproduced the strings associated with it below. Note that, in the ABC string, it occurs before a comma rather than a period. What's so special about NTW1 and NTW2?"
   ]
  },
  {
   "cell_type": "code",
   "execution_count": 13,
   "metadata": {},
   "outputs": [
    {
     "data": {
      "text/html": [
       "<div>\n",
       "<style scoped>\n",
       "    .dataframe tbody tr th:only-of-type {\n",
       "        vertical-align: middle;\n",
       "    }\n",
       "\n",
       "    .dataframe tbody tr th {\n",
       "        vertical-align: top;\n",
       "    }\n",
       "\n",
       "    .dataframe thead th {\n",
       "        text-align: right;\n",
       "    }\n",
       "</style>\n",
       "<table border=\"1\" class=\"dataframe\">\n",
       "  <thead>\n",
       "    <tr style=\"text-align: right;\">\n",
       "      <th></th>\n",
       "      <th>string_xkxx</th>\n",
       "      <th>string_generic</th>\n",
       "    </tr>\n",
       "    <tr>\n",
       "      <th>Source</th>\n",
       "      <th></th>\n",
       "      <th></th>\n",
       "    </tr>\n",
       "  </thead>\n",
       "  <tbody>\n",
       "    <tr>\n",
       "      <th>ABC5</th>\n",
       "      <td>pk33</td>\n",
       "      <td>4i3al kfihl3 kfikbl3 1gpk33, 20qjgdk03.</td>\n",
       "    </tr>\n",
       "    <tr>\n",
       "      <th>NTW1</th>\n",
       "      <td>pk03</td>\n",
       "      <td>kfial3 dq8bl n8af8flc 20qjgpk03.</td>\n",
       "    </tr>\n",
       "    <tr>\n",
       "      <th>NTW2</th>\n",
       "      <td>pk31</td>\n",
       "      <td>4i3al kfial3 20qjgh08 dq8al n8af8pk31.</td>\n",
       "    </tr>\n",
       "  </tbody>\n",
       "</table>\n",
       "</div>"
      ],
      "text/plain": [
       "       string_xkxx                           string_generic\n",
       "Source                                                     \n",
       "ABC5          pk33  4i3al kfihl3 kfikbl3 1gpk33, 20qjgdk03.\n",
       "NTW1          pk03         kfial3 dq8bl n8af8flc 20qjgpk03.\n",
       "NTW2          pk31   4i3al kfial3 20qjgh08 dq8al n8af8pk31."
      ]
     },
     "execution_count": 13,
     "metadata": {},
     "output_type": "execute_result"
    }
   ],
   "source": [
    "derived[derived['string_xkxx'].str.contains('pk')][['string_xkxx', 'string_generic']]"
   ]
  },
  {
   "cell_type": "markdown",
   "metadata": {},
   "source": [
    "##### Notes & Questions -- \n",
    "* Only the suffixes 31, 33, 13, and 03 occur. Only the prefixes d and p occur. Why might this be?\n",
    "* p is much rarer than d. Why might *this* be?\n",
    "* Is there a _morphological_ relationship between d and p? What about k? What about 0-3?\n",
    "* Why are XKXX sequences so consistent throughout the main scripts, but not present or necessary in Roche's work, the ice wall, or the org statue? Is it because they are a part of sentence structure? Is it because they are cipher keys of some kind (possibly indicating that Roche's work and the org statue use some kind of unmodified base alphabet)? Are they codes to activate machines? Do they aggregate into a separate message? Is it a really big coincidence?"
   ]
  },
  {
   "cell_type": "markdown",
   "metadata": {},
   "source": [
    "## XKXX Fullwords\n",
    "*Barely any commentary. A section with no writing. He moved on before starting.*"
   ]
  },
  {
   "cell_type": "code",
   "execution_count": 14,
   "metadata": {},
   "outputs": [],
   "source": [
    "derived['string_xkxx_fullword_extracted'] = [\n",
    "    ' '.join([s for s in [s for s in fullstring.split(' ')] \n",
    "     if bool(re.search(re_xkxx, s)) == False])\n",
    "    for fullstring in derived['string_generic']]\n",
    "\n",
    "derived['string_xkxx_fullword'] = [\n",
    "    [s for s in [s for s in fullstring.split(' ')] \n",
    "     if bool(re.search(re_xkxx, s)) == True][0].replace('.','').replace(',','')    \n",
    "    for fullstring in derived['string_generic']]\n",
    "\n",
    "derived['string_xkxx_prefix']= [re.sub(re_xkxx,'',s) for s in derived['string_xkxx_fullword']]"
   ]
  },
  {
   "cell_type": "markdown",
   "metadata": {},
   "source": [
    "# Proposed Partial Translation Based on Recent Discoveries & Aspasia’s Ideogram Hypothesis\n",
    "\n",
    "As I was working on these analyses, one of my triangle brokers passed me a piece of information I'd been missing about the ice wall. I reflected on Aspasia's observations about language and on her hypothesis that the symbols are ideogramatic rather than phonetic. I have never met anyone so clever. So I followed her reasoning as closely as I could. Then I tried, hard, to put together all of the information that I had."
   ]
  },
  {
   "cell_type": "code",
   "execution_count": 15,
   "metadata": {},
   "outputs": [
    {
     "name": "stdout",
     "output_type": "stream",
     "text": [
      "ROCHE1: bgkfl4g\n",
      "I'm sure they mean sunrise. Or… maybe they mean… the past. Things that happened long ago.\n",
      "\n",
      "ROCHE2: bgkfl4\n",
      "Take away one letter… and it's noon. Things happening right now. The present.\n",
      "\n",
      "ORG: kfi\n",
      "A statue of an org.\n",
      "\n",
      "ICEWALL1: p0p\n",
      "By the icy altars at the healer ruin south of Giayl.\n",
      "\n",
      "ICEWALL2: n8p0p\n",
      "By the icy altars at the healer ruin south of Giayl.\n",
      "\n"
     ]
    }
   ],
   "source": [
    "hints = pd.read_csv('triangle_hints.csv')\n",
    "hints\n",
    "\n",
    "hints['string_generic'] = [''.join([standardize_dict[s] for s in entry]) for entry in hints['raw_string']]\n",
    "for idx in hints.index:\n",
    "    print('{}: {}'.format(hints.loc[idx]['name'],hints.loc[idx]['string_generic']))\n",
    "    print('{}\\n'.format(hints.loc[idx]['context']))"
   ]
  },
  {
   "cell_type": "markdown",
   "metadata": {},
   "source": [
    "#### ROCHE SEQUENCES:\n",
    "* Take away __g__ from ROCHE1 and move from SUNRISE/PAST (__bgkfl4g__) to NOON/PRESENT (__bgkfl4__). \n",
    "* Take away another character, likely __4__, and move from NOON/PRESENT (__bgkfl4__) to FUTURE/SUNSET (__bgkfl__).\n",
    "\n",
    "I will follow Aspasia's assertion that the org statue means time, rather than the literal 'org'. __kf__ occurs here ahead of the tense modifications apparently offered by __4__ and __g__. Does __bg__, then, represent DAY? ETERNITY? HISTORY? EVENTS? And is the default tense in this language future? What is __l__'s role in the word?\n",
    "\n",
    "#### ORG SEQUENCE:\n",
    "Continuing to follow Aspasia's assertion that the ORG sequence __kfi__ means time, rather than the literal 'org'. The co-occurrence of __kf__ here and in the Roche sequences bolsters that theory. Orgs alter time around them -- some speed it, others slow it. Does __i__ represent CHANGE? MANIPULATION?\n",
    "\n",
    "#### ICE WALL SEQUENCES:\n",
    "I received intelligence from one of my triangle brokers suggesting that some people see the ice behind the __p0p__ sequence as a burning candle and the ice behind the __n8p0p__ sequence as an extinguished candle. Does the prefix __n8__ have the function of NEGATING the text after it? Does __p0p__ mean LIFE? FIRE? \n"
   ]
  },
  {
   "cell_type": "markdown",
   "metadata": {},
   "source": [
    "### Below, I attempt to translate the texts following these definitions:"
   ]
  },
  {
   "cell_type": "code",
   "execution_count": 16,
   "metadata": {},
   "outputs": [
    {
     "name": "stdout",
     "output_type": "stream",
     "text": [
      "Cloud\n",
      "[FUTURE][ALTER]3[PERSON(S)][PRESENT] [PERSON(S)]kmh[PRESENT] 088085 [PERSON(S)]km[OCCUR][PRESENT] 2k6c[IS]85 e0j [OCCUR]866dk03.\n",
      "\n",
      "\n",
      "ABC1\n",
      "[FUTURE][ALTER]3[PERSON(S)][PRESENT] [NEGATE/EXTINGUISH][LIFE/FLAME][OCCUR][PRESENT]3 e0j [NEGATE/EXTINGUISH]o8[PERSON(S)][IS]dk03.\n",
      "\n",
      "\n",
      "ABC2\n",
      "[FUTURE][ALTER]3[PERSON(S)][PRESENT] dq8[OCCUR][PRESENT] jk[ALTER]edk03 20qj[IS]h08 [NEGATE/EXTINGUISH][LIFE/FLAME][PERSON(S)][PRESENT]3 e0j jk[ALTER]epk33.\n",
      "\n",
      "\n",
      "ABC3\n",
      "[FUTURE][ALTER]3[PERSON(S)][PRESENT] [LIFE/FLAME][OCCUR][PRESENT] [NEGATE/EXTINGUISH][LIFE/FLAME]f[PRESENT]c qj[IS]dk03.\n",
      "\n",
      "\n",
      "ABC4\n",
      "[FUTURE][ALTER]3[PERSON(S)][PRESENT] [TIME][ALTER]k[OCCUR][PRESENT]3 20qj[IS]d 0qj[IS]dk03.\n",
      "\n",
      "\n",
      "ABC5\n",
      "[FUTURE][ALTER]3[PERSON(S)][PRESENT] [TIME][ALTER]h[PRESENT]3 [TIME][ALTER]k[OCCUR][PRESENT]3 1[IS]pk33, 20qj[IS]dk03.\n",
      "\n",
      "\n",
      "ABC6\n",
      "[FUTURE][ALTER]3[PERSON(S)][PRESENT] [LIFE/FLAME][OCCUR][PRESENT] [NEGATE/EXTINGUISH][LIFE/FLAME]f[PRESENT]c qj[IS]dk03 20qj[IS]h08 [TIME][ALTER]kj[PRESENT]3 20qj[IS]dk03.\n",
      "\n",
      "\n",
      "ABC7\n",
      "[FUTURE][ALTER]3[PERSON(S)][PRESENT] [TIME][ALTER]k[OCCUR][PRESENT]3 qj[IS]dk03 20qj[IS]h08 dq8[PERSON(S)][PRESENT] jk[ALTER]epk03.\n",
      "\n",
      "\n",
      "ABC8\n",
      "k[OCCUR][ALTER]k[PERSON(S)][PRESENT]3 [FUTURE][ALTER]3[OCCUR][PRESENT] [NEGATE/EXTINGUISH]o8[PERSON(S)][IS]dk33.\n",
      "\n",
      "\n",
      "ABC9\n",
      "k[OCCUR][ALTER]k[PERSON(S)][PRESENT]3 dq8[OCCUR][PRESENT] [NEGATE/EXTINGUISH]jk[ALTER]edk33.\n",
      "\n",
      "\n",
      "ABC10\n",
      "k[OCCUR][ALTER]k[PERSON(S)][PRESENT]3 [FUTURE][ALTER]3[OCCUR][PRESENT] ko082dk33.\n",
      "\n",
      "\n",
      "NTN1\n",
      "[FUTURE][ALTER]3[PERSON(S)][PRESENT] [TIME][ALTER][OCCUR][PRESENT]3 20ej[IS]dk03.\n",
      "\n",
      "\n",
      "NTN2\n",
      "dq8[PERSON(S)][PRESENT] [PERSON(S)]f8f[PRESENT]c 18dk31.\n",
      "\n",
      "\n",
      "NTN3\n",
      "dq8[PERSON(S)][PRESENT] [NEGATE/EXTINGUISH][PERSON(S)]f8f[PRESENT]c 18dk31.\n",
      "\n",
      "\n",
      "NTE1\n",
      "[FUTURE][ALTER]3[PERSON(S)][PRESENT] [TIME][ALTER][OCCUR][PRESENT]3 3m[IS]oodk13 2o[ALTER]j[IS]r[ALTER] 20qj[IS]h08 dq8[PERSON(S)][PRESENT] [FUTURE][ALTER]385 [NEGATE/EXTINGUISH][PERSON(S)]f8pk31.\n",
      "\n",
      "\n",
      "NTE2\n",
      "[FUTURE][ALTER]3[PERSON(S)][PRESENT] [TIME][ALTER][OCCUR][PRESENT]3 3m[IS]oodk13 2o[ALTER]j[IS]r[ALTER]\n",
      "\n",
      "\n",
      "NTE3\n",
      "dq8[PERSON(S)][PRESENT] [FUTURE][ALTER]385 [NEGATE/EXTINGUISH][PERSON(S)]f8dk31 20qj[IS]h08 [FUTURE][ALTER]3[PERSON(S)][PRESENT] [NEGATE/EXTINGUISH][OCCUR]87dk03.\n",
      "\n",
      "\n",
      "NTW1\n",
      "[TIME][ALTER][PERSON(S)][PRESENT]3 dq8[OCCUR][PRESENT] [NEGATE/EXTINGUISH][PERSON(S)]f8f[PRESENT]c 20qj[IS]pk03.\n",
      "\n",
      "\n",
      "NTW2\n",
      "[FUTURE][ALTER]3[PERSON(S)][PRESENT] [TIME][ALTER][PERSON(S)][PRESENT]3 20qj[IS]h08 dq8[PERSON(S)][PRESENT] [NEGATE/EXTINGUISH][PERSON(S)]f8pk31.\n",
      "\n",
      "\n",
      "NTO1\n",
      "[PERSON(S)][PRESENT] [TIME][ALTER][OCCUR][PRESENT]3 [NEGATE/EXTINGUISH]o8[PERSON(S)][IS]dk31.\n",
      "\n",
      "\n",
      "NTO2\n",
      "[PERSON(S)][PRESENT] [NEGATE/EXTINGUISH][OCCUR]87[OCCUR][PRESENT] [NEGATE/EXTINGUISH]o8[PERSON(S)][IS]dk31.\n",
      "\n",
      "\n",
      "CR1\n",
      "[NEGATE/EXTINGUISH][LIFE/FLAME][PERSON(S)][PRESENT]3 e0j [LIFE/FLAME][OCCUR][PRESENT] [NEGATE/EXTINGUISH][LIFE/FLAME]f[PRESENT] [NEGATE/EXTINGUISH][LIFE/FLAME]f[PRESENT]c o8[PERSON(S)][IS]dk33.\n",
      "\n",
      "\n",
      "CR2\n",
      "[NEGATE/EXTINGUISH][LIFE/FLAME][PERSON(S)][PRESENT]3 e0j k80c[OCCUR][PRESENT] e0j qj[IS]dk33.\n",
      "\n",
      "\n",
      "CR3\n",
      "[NEGATE/EXTINGUISH][LIFE/FLAME][PERSON(S)][PRESENT]3 e0j ko8[OCCUR][PRESENT] k[ALTER][ALTER][OCCUR] 2[ALTER][OCCUR] 2[ALTER][OCCUR]3dk33.\n",
      "\n",
      "\n",
      "CR4\n",
      "[DAY/ALL][TIME]o0[OCCUR]0[PERSON(S)][PRESENT]3 [FUTURE][ALTER]385, [OCCUR]07[TIME][PRESENT]c 1[IS]dk33.\n",
      "\n",
      "\n",
      "CR5\n",
      "[NEGATE/EXTINGUISH][LIFE/FLAME][PERSON(S)][PRESENT]3 e0j [LIFE/FLAME][OCCUR][PRESENT] [NEGATE/EXTINGUISH][LIFE/FLAME]f[PRESENT]c k[ALTER][ALTER][OCCUR] 2[ALTER][OCCUR]3dk33.\n",
      "\n",
      "\n",
      "CR6\n",
      "[NEGATE/EXTINGUISH][LIFE/FLAME][PERSON(S)][PRESENT]3 [FUTURE][ALTER]3[OCCUR][PRESENT] [NEGATE/EXTINGUISH]o8[PERSON(S)][IS]dk33.\n",
      "\n",
      "\n",
      "ICE1\n",
      "[LIFE/FLAME][PERSON(S)][PRESENT] e0j, [NEGATE/EXTINGUISH][LIFE/FLAME]f[PRESENT]c 1[IS]dk31 h082 [LIFE/FLAME][PERSON(S)][PRESENT] e0j, [LIFE/FLAME]f[PRESENT]c 1[IS]dk31.\n",
      "\n",
      "\n",
      "ICE2\n",
      "[LIFE/FLAME][PERSON(S)][PRESENT] e0j, [LIFE/FLAME]f[PRESENT]c q[IS]h7r[ALTER] 1[IS]dk31.\n",
      "\n",
      "\n",
      "ICE3\n",
      "[LIFE/FLAME][PERSON(S)][PRESENT] e0j, [LIFE/FLAME][OCCUR][PRESENT] [DAY/ALL][TIME]85 6[ALTER][ALTER]3f[PRESENT]c j0[DAY/ALL]r[ALTER] 1[IS]dk31.\n",
      "\n",
      "\n",
      "ICE4\n",
      "p[OCCUR]8ko8[PERSON(S)][PRESENT] [NEGATE/EXTINGUISH][LIFE/FLAME]f[PRESENT]c 1[IS]dk31.\n",
      "\n",
      "\n",
      "ICE5\n",
      "p[OCCUR]8ko8[PERSON(S)][PRESENT] [LIFE/FLAME]f[PRESENT]c 1[IS]dk31.\n",
      "\n",
      "\n",
      "ICE6\n",
      "[DAY/ALL][TIME]o0[OCCUR]0[PERSON(S)][PRESENT]3 [FUTURE][ALTER]385, 0[OCCUR]0f3f[PRESENT]c 1[IS]dk33.\n",
      "\n",
      "\n",
      "ICE7\n",
      "[DAY/ALL][TIME]o0[OCCUR]0[PERSON(S)][PRESENT]3 [FUTURE][ALTER]385 k80c[OCCUR][PRESENT] 20qj[IS]dk03.\n",
      "\n",
      "\n",
      "ICE8\n",
      "k80c[PERSON(S)][PRESENT] e0j p[OCCUR]8ko8[OCCUR][PRESENT] k[ALTER][ALTER][OCCUR] r[ALTER]8cdk31.\n",
      "\n",
      "\n",
      "ICE9\n",
      "k80c[PERSON(S)][PRESENT] e0j ko8h[PRESENT]  k[ALTER][ALTER][OCCUR] p[OCCUR]8ko8[OCCUR] k[ALTER][ALTER][OCCUR] r[ALTER]8cdk31.\n",
      "\n",
      "\n",
      "ICE10\n",
      "[FUTURE][ALTER]3[PERSON(S)][PRESENT] k80c[OCCUR][PRESENT] e0j qj8dk03.\n",
      "\n",
      "\n"
     ]
    }
   ],
   "source": [
    "meaning_dict = {'n8':'[NEGATE/EXTINGUISH]', \n",
    "                'p0p':'[LIFE/FLAME]', \n",
    "                'kf':'[TIME]', \n",
    "                'bg':'[DAY/ALL]',\n",
    "                'i':'[ALTER]',\n",
    "                '4':'[FUTURE]',\n",
    "                'l':'[PRESENT]',\n",
    "                'a':'[PERSON(S)]',\n",
    "                'b':'[OCCUR]',\n",
    "                'g':'[IS]'}\n",
    "\n",
    "for idx in derived.index:\n",
    "    substring = derived.loc[idx]['string_generic']\n",
    "    for key in meaning_dict.keys():\n",
    "        substring = substring.replace(key, meaning_dict[key])\n",
    "        \n",
    "    print(idx)\n",
    "    print(substring)\n",
    "    print('\\n')"
   ]
  },
  {
   "cell_type": "markdown",
   "metadata": {},
   "source": [
    "### A hurried conclusion\n",
    "There are things that I hoped to flesh out but have no time for. Sharing what I have at this moment seems imperative. Good luck. I hope my contribution helps.\n",
    "\n",
    "Two appendices are referenced here:\n",
    "<br>\n",
    "__translation_dictionary.TXT__<br>\n",
    "__translated_texts.TXT__\n"
   ]
  }
 ],
 "metadata": {
  "kernelspec": {
   "display_name": "Python 3",
   "language": "python",
   "name": "python3"
  },
  "language_info": {
   "codemirror_mode": {
    "name": "ipython",
    "version": 3
   },
   "file_extension": ".py",
   "mimetype": "text/x-python",
   "name": "python",
   "nbconvert_exporter": "python",
   "pygments_lexer": "ipython3",
   "version": "3.8.3"
  }
 },
 "nbformat": 4,
 "nbformat_minor": 4
}
